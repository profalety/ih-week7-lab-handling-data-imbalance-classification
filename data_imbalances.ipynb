{
 "cells": [
  {
   "cell_type": "markdown",
   "id": "0a21384a-8d9f-4fdf-bd4e-3cc0a5e55851",
   "metadata": {},
   "source": [
    "![logo_ironhack_blue 7](https://user-images.githubusercontent.com/23629340/40541063-a07a0a8a-601a-11e8-91b5-2f13e4e6b441.png)\n",
    "\n",
    "# Lab | Handling Data Imbalance in Classification Models\n",
    "\n",
    "For this lab and in the next lessons we will build a model on customer churn binary classification problem. You will be using `files_for_lab/Customer-Churn.csv` file.\n",
    "\n",
    "**Scenario**\n",
    "\n",
    "You are working as an analyst with this internet service provider. You are provided with this historical data about your company's customers and their churn trends. Your task is to build a machine learning model that will help the company identify customers that are more likely to default/churn and thus prevent losses from such customers.\n",
    "\n",
    "**Instructions**\n",
    "\n",
    "In this lab, we will first take a look at the degree of imbalance in the data and correct it using the techniques we learned on the class.\n",
    "\n",
    "Here is the list of steps to be followed (building a simple model without balancing the data):\n",
    "\n",
    "- Import the required libraries and modules that you would need.\n",
    "- Read that data into Python and call the dataframe `churnData`.\n",
    "- Check the datatypes of all the columns in the data. You would see that the column `TotalCharges` is object type. Convert this column into numeric type using `pd.to_numeric` function.\n",
    "- Check for null values in the dataframe. Replace the null values.\n",
    "- Use the following features: `tenure`, `SeniorCitizen`, `MonthlyCharges` and `TotalCharges`:\n",
    "  - Scale the features either by using normalizer or a standard scaler.\n",
    "  - Split the data into a training set and a test set.\n",
    "  - Fit a logistic regression model on the training data.\n",
    "  - Check the accuracy on the test data.\n",
    "\n",
    "**Note**: So far we have not balanced the data.\n",
    "\n",
    "Managing imbalance in the dataset\n",
    "\n",
    "- Check for the imbalance.\n",
    "- Use the resampling strategies used in class for upsampling and downsampling to create a balance between the two classes.\n",
    "- Each time fit the model and see how the accuracy of the model is."
   ]
  },
  {
   "cell_type": "markdown",
   "id": "51298e75-66fd-418e-9026-496083a8518c",
   "metadata": {},
   "source": [
    "## Imports"
   ]
  },
  {
   "cell_type": "code",
   "execution_count": 127,
   "id": "c5e01f2a-86b3-425c-8850-2f25d00b95d3",
   "metadata": {},
   "outputs": [],
   "source": [
    "import pandas as pd\n",
    "import numpy as np\n",
    "import statsmodels.api as sm\n",
    "from sklearn.utils import resample\n",
    "\n",
    "from sklearn.model_selection import train_test_split\n",
    "from sklearn.preprocessing import MinMaxScaler\n",
    "from sklearn.preprocessing import OneHotEncoder\n",
    "from sklearn.linear_model import LogisticRegression"
   ]
  },
  {
   "cell_type": "markdown",
   "id": "315b7feb-cd97-43ae-b761-e420bde869f9",
   "metadata": {},
   "source": [
    "## Load & clean data"
   ]
  },
  {
   "cell_type": "code",
   "execution_count": 128,
   "id": "71ad4ec6-bf5b-4938-be91-6c9efb75cd2e",
   "metadata": {},
   "outputs": [],
   "source": [
    "churnData = pd.read_csv('files_for_lab/Customer-Churn.csv')\n",
    "churnData.columns =churnData.columns.str.lower().str.replace(' ', '_').str.replace('.', '', regex=True)"
   ]
  },
  {
   "cell_type": "code",
   "execution_count": 129,
   "id": "1a3fc0f6-8dcc-4562-9420-d1ae1cd51c67",
   "metadata": {},
   "outputs": [
    {
     "data": {
      "text/plain": [
       "Index(['gender', 'seniorcitizen', 'partner', 'dependents', 'tenure',\n",
       "       'phoneservice', 'onlinesecurity', 'onlinebackup', 'deviceprotection',\n",
       "       'techsupport', 'streamingtv', 'streamingmovies', 'contract',\n",
       "       'monthlycharges', 'totalcharges', 'churn'],\n",
       "      dtype='object')"
      ]
     },
     "execution_count": 129,
     "metadata": {},
     "output_type": "execute_result"
    }
   ],
   "source": [
    "churnData.columns"
   ]
  },
  {
   "cell_type": "code",
   "execution_count": 130,
   "id": "14d73c53-6daa-40ee-b2dc-0bc55be1c9e2",
   "metadata": {},
   "outputs": [
    {
     "data": {
      "text/plain": [
       "gender               object\n",
       "seniorcitizen         int64\n",
       "partner              object\n",
       "dependents           object\n",
       "tenure                int64\n",
       "phoneservice         object\n",
       "onlinesecurity       object\n",
       "onlinebackup         object\n",
       "deviceprotection     object\n",
       "techsupport          object\n",
       "streamingtv          object\n",
       "streamingmovies      object\n",
       "contract             object\n",
       "monthlycharges      float64\n",
       "totalcharges         object\n",
       "churn                object\n",
       "dtype: object"
      ]
     },
     "execution_count": 130,
     "metadata": {},
     "output_type": "execute_result"
    }
   ],
   "source": [
    "churnData.dtypes"
   ]
  },
  {
   "cell_type": "markdown",
   "id": "6b1baea7-c221-49aa-9850-10649440f0ff",
   "metadata": {},
   "source": [
    "i = 0\n",
    "for value in churnData['totalcharges']:\n",
    "    if value == ' ':\n",
    "        churnData['totalcharges'].iloc[i] = ''\n",
    "    i = i+1"
   ]
  },
  {
   "cell_type": "code",
   "execution_count": 131,
   "id": "45335dcc-e1d5-479e-a6a6-635a56277169",
   "metadata": {},
   "outputs": [],
   "source": [
    "churnData['totalcharges'] = pd.to_numeric(churnData['totalcharges'], errors='coerce')"
   ]
  },
  {
   "cell_type": "code",
   "execution_count": 132,
   "id": "c3ce3125-0255-43ee-861b-519357f36218",
   "metadata": {},
   "outputs": [
    {
     "data": {
      "text/plain": [
       "11"
      ]
     },
     "execution_count": 132,
     "metadata": {},
     "output_type": "execute_result"
    }
   ],
   "source": [
    "churnData['totalcharges'].isnull().sum()"
   ]
  },
  {
   "cell_type": "code",
   "execution_count": 133,
   "id": "f85fa862-f85e-49cd-872e-deed54345051",
   "metadata": {},
   "outputs": [
    {
     "data": {
      "text/plain": [
       "0"
      ]
     },
     "execution_count": 133,
     "metadata": {},
     "output_type": "execute_result"
    }
   ],
   "source": [
    "churnData['totalcharges'].fillna(round(churnData['totalcharges'].mean(), 2), inplace=True)\n",
    "churnData['totalcharges'].isnull().sum()"
   ]
  },
  {
   "cell_type": "code",
   "execution_count": 134,
   "id": "44801de4-618d-420d-9326-146df7fec5ec",
   "metadata": {},
   "outputs": [
    {
     "data": {
      "text/plain": [
       "0         29.85\n",
       "1       1889.50\n",
       "2        108.15\n",
       "3       1840.75\n",
       "4        151.65\n",
       "         ...   \n",
       "7038    1990.50\n",
       "7039    7362.90\n",
       "7040     346.45\n",
       "7041     306.60\n",
       "7042    6844.50\n",
       "Name: totalcharges, Length: 7043, dtype: float64"
      ]
     },
     "execution_count": 134,
     "metadata": {},
     "output_type": "execute_result"
    }
   ],
   "source": [
    "churnData['totalcharges']"
   ]
  },
  {
   "cell_type": "markdown",
   "id": "68e49f92-db23-42aa-a62b-19755b28fd61",
   "metadata": {},
   "source": [
    "## Build the LR model"
   ]
  },
  {
   "cell_type": "markdown",
   "id": "7d332c75-8163-4a88-99dd-2a0862f0b4a4",
   "metadata": {},
   "source": [
    "- Use the following features: `tenure`, `SeniorCitizen`, `MonthlyCharges` and `TotalCharges`:\n",
    "  - Scale the features either by using normalizer or a standard scaler.\n",
    "  - Split the data into a training set and a test set.\n",
    "  - Fit a logistic regression model on the training data.\n",
    "  - Check the accuracy on the test data."
   ]
  },
  {
   "cell_type": "code",
   "execution_count": 143,
   "id": "f79289c9-db4c-4650-a6ad-8d14893c7346",
   "metadata": {},
   "outputs": [],
   "source": [
    "y = churnData['churn']\n",
    "X = churnData[['tenure', 'seniorcitizen', 'monthlycharges', 'totalcharges']]\n",
    "\n",
    "X_train, X_test, y_train, y_test = train_test_split(X, y, test_size=0.2, random_state=42)"
   ]
  },
  {
   "cell_type": "code",
   "execution_count": 144,
   "id": "54a94a72-9b3c-4828-b287-519c0c077bf4",
   "metadata": {},
   "outputs": [],
   "source": [
    "transformer = MinMaxScaler().fit(X_train) # need to keep transformer\n",
    "X_train_normalized = transformer.transform(X_train)\n",
    "X_train_norm = pd.DataFrame(X_train_normalized)\n",
    "X_train_norm.columns = X_train.columns"
   ]
  },
  {
   "cell_type": "code",
   "execution_count": 145,
   "id": "7d545c53-7f47-409d-8ba4-c7c5f3769e40",
   "metadata": {},
   "outputs": [],
   "source": [
    "transformer = MinMaxScaler().fit(X_test) # need to keep transformer\n",
    "X_test_normalized = transformer.transform(X_test)\n",
    "X_test_norm = pd.DataFrame(X_test_normalized)\n",
    "X_test_norm.columns = X_test.columns"
   ]
  },
  {
   "cell_type": "code",
   "execution_count": 146,
   "id": "8697f609-f194-419d-96f1-c158f88e21cf",
   "metadata": {},
   "outputs": [],
   "source": [
    "classification = LogisticRegression(random_state=0, solver='saga', multi_class='multinomial').fit(X_train_norm, y_train)"
   ]
  },
  {
   "cell_type": "code",
   "execution_count": 147,
   "id": "c44e85a3-09f2-47ad-bc7e-e25c3530e328",
   "metadata": {},
   "outputs": [
    {
     "data": {
      "text/plain": [
       "0.7880724174653887"
      ]
     },
     "execution_count": 147,
     "metadata": {},
     "output_type": "execute_result"
    }
   ],
   "source": [
    "classification.score(X_train_norm, y_train)"
   ]
  },
  {
   "cell_type": "code",
   "execution_count": 148,
   "id": "3e4af1b8-dafa-433b-961e-9dcf25c95537",
   "metadata": {},
   "outputs": [
    {
     "data": {
      "text/plain": [
       "array(['No', 'No', 'No', ..., 'No', 'No', 'No'], dtype=object)"
      ]
     },
     "execution_count": 148,
     "metadata": {},
     "output_type": "execute_result"
    }
   ],
   "source": [
    "predictions = classification.predict(X_test_norm)\n",
    "predictions"
   ]
  },
  {
   "cell_type": "code",
   "execution_count": 149,
   "id": "ce0969e9-e664-492b-b44b-a1b8b59eb464",
   "metadata": {},
   "outputs": [
    {
     "data": {
      "text/plain": [
       "0.8034066713981547"
      ]
     },
     "execution_count": 149,
     "metadata": {},
     "output_type": "execute_result"
    }
   ],
   "source": [
    "classification.score(X_test_norm, y_test)"
   ]
  },
  {
   "cell_type": "markdown",
   "id": "9c0dc7ca-8525-4319-b652-a5da145b6a87",
   "metadata": {},
   "source": [
    "## Resample the data"
   ]
  },
  {
   "cell_type": "markdown",
   "id": "d00ca4d8-e230-443b-9c5b-f7338913280f",
   "metadata": {},
   "source": [
    "Managing imbalance in the dataset\n",
    "- Check for the imbalance.\n",
    "- Use the resampling strategies used in class for upsampling and downsampling to create a balance between the two classes.\n",
    "- Each time fit the model and see how the accuracy of the model is.\n"
   ]
  },
  {
   "cell_type": "code",
   "execution_count": 89,
   "id": "e08100ad-ccdb-4982-b854-439c8960701f",
   "metadata": {},
   "outputs": [
    {
     "data": {
      "text/plain": [
       "No     5174\n",
       "Yes    1869\n",
       "Name: churn, dtype: int64"
      ]
     },
     "execution_count": 89,
     "metadata": {},
     "output_type": "execute_result"
    }
   ],
   "source": [
    "churnData['churn'].value_counts()"
   ]
  },
  {
   "cell_type": "code",
   "execution_count": 151,
   "id": "c1783bd3-d6f7-4e22-a8b8-6e9d45cd8529",
   "metadata": {},
   "outputs": [],
   "source": [
    "category_0 = churnData[churnData['churn'] =='No']\n",
    "category_1 = churnData[churnData['churn'] == 'Yes']"
   ]
  },
  {
   "cell_type": "code",
   "execution_count": 152,
   "id": "0e428778-1426-4b01-9822-ce96ada7d0fd",
   "metadata": {},
   "outputs": [],
   "source": [
    "category_1_undersampled = resample(category_1, \n",
    "                                   replace=True, \n",
    "                                   n_samples = len(category_0))"
   ]
  },
  {
   "cell_type": "code",
   "execution_count": 153,
   "id": "ff1efd7a-c2b4-4c1f-8f4d-200d8fe6d9eb",
   "metadata": {},
   "outputs": [],
   "source": [
    "churnData_oversampled = pd.concat([category_0, category_1_undersampled], axis=0)"
   ]
  },
  {
   "cell_type": "code",
   "execution_count": 154,
   "id": "507fe806-78a6-43fb-93dc-96b5cd729768",
   "metadata": {},
   "outputs": [
    {
     "data": {
      "text/plain": [
       "No     5174\n",
       "Yes    5174\n",
       "Name: churn, dtype: int64"
      ]
     },
     "execution_count": 154,
     "metadata": {},
     "output_type": "execute_result"
    }
   ],
   "source": [
    "churnData_oversampled['churn'].value_counts()"
   ]
  },
  {
   "cell_type": "markdown",
   "id": "70f6a2ed-6528-4462-aa24-99ffa3fd0fde",
   "metadata": {},
   "source": [
    "## Build the LR model with resampled data"
   ]
  },
  {
   "cell_type": "code",
   "execution_count": 155,
   "id": "a53a39ff-241e-4ddb-b826-f75451011324",
   "metadata": {},
   "outputs": [],
   "source": [
    "y = churnData_oversampled['churn']\n",
    "X = churnData_oversampled[['tenure', 'seniorcitizen', 'monthlycharges', 'totalcharges']]\n",
    "\n",
    "X_train, X_test, y_train, y_test = train_test_split(X, y, test_size=0.2, random_state=42)"
   ]
  },
  {
   "cell_type": "code",
   "execution_count": 156,
   "id": "74cc15dc-9298-4f14-8ef9-374e6a229e27",
   "metadata": {},
   "outputs": [],
   "source": [
    "transformer = MinMaxScaler().fit(X_train) # need to keep transformer\n",
    "X_train_normalized = transformer.transform(X_train)\n",
    "X_train_norm = pd.DataFrame(X_train_normalized)\n",
    "X_train_norm.columns = X_train.columns\n",
    "\n",
    "transformer = MinMaxScaler().fit(X_test) # need to keep transformer\n",
    "X_test_normalized = transformer.transform(X_test)\n",
    "X_test_norm = pd.DataFrame(X_test_normalized)\n",
    "X_test_norm.columns = X_test.columns"
   ]
  },
  {
   "cell_type": "code",
   "execution_count": 157,
   "id": "90236222-d5ce-4988-8c14-c6f25343573f",
   "metadata": {},
   "outputs": [
    {
     "data": {
      "text/plain": [
       "0.7382217927035516"
      ]
     },
     "execution_count": 157,
     "metadata": {},
     "output_type": "execute_result"
    }
   ],
   "source": [
    "classification = LogisticRegression(random_state=0, solver='saga', multi_class='multinomial').fit(X_train_norm, y_train)\n",
    "classification.score(X_train_norm, y_train)"
   ]
  },
  {
   "cell_type": "code",
   "execution_count": 159,
   "id": "982bcb81-659a-4251-97ce-ed7482a51cda",
   "metadata": {},
   "outputs": [],
   "source": [
    "predictions = classification.predict(X_test_norm)"
   ]
  },
  {
   "cell_type": "code",
   "execution_count": 160,
   "id": "62dac778-1f7c-44c5-abc8-8ecd522d1d1e",
   "metadata": {},
   "outputs": [
    {
     "data": {
      "text/plain": [
       "0.7309178743961353"
      ]
     },
     "execution_count": 160,
     "metadata": {},
     "output_type": "execute_result"
    }
   ],
   "source": [
    "classification.score(X_test_norm, y_test)"
   ]
  },
  {
   "cell_type": "code",
   "execution_count": null,
   "id": "adc99e9a-0239-4b88-b18d-c03029929cff",
   "metadata": {},
   "outputs": [],
   "source": []
  }
 ],
 "metadata": {
  "kernelspec": {
   "display_name": "Python 3 (ipykernel)",
   "language": "python",
   "name": "python3"
  },
  "language_info": {
   "codemirror_mode": {
    "name": "ipython",
    "version": 3
   },
   "file_extension": ".py",
   "mimetype": "text/x-python",
   "name": "python",
   "nbconvert_exporter": "python",
   "pygments_lexer": "ipython3",
   "version": "3.9.7"
  }
 },
 "nbformat": 4,
 "nbformat_minor": 5
}
